{
  "nbformat": 4,
  "nbformat_minor": 0,
  "metadata": {
    "colab": {
      "name": "CV_Prroblem.ipynb",
      "version": "0.3.2",
      "provenance": [],
      "include_colab_link": true
    },
    "kernelspec": {
      "name": "python3",
      "display_name": "Python 3"
    }
  },
  "cells": [
    {
      "cell_type": "markdown",
      "metadata": {
        "id": "view-in-github",
        "colab_type": "text"
      },
      "source": [
        "<a href=\"https://colab.research.google.com/github/the14thletter/IIITD/blob/master/CV_Problem.ipynb\" target=\"_parent\"><img src=\"https://colab.research.google.com/assets/colab-badge.svg\" alt=\"Open In Colab\"/></a>"
      ]
    },
    {
      "metadata": {
        "id": "zToLu_rEkXr_",
        "colab_type": "text"
      },
      "cell_type": "markdown",
      "source": [
        "# Classification of Images"
      ]
    },
    {
      "metadata": {
        "id": "51w0ITNVlzKg",
        "colab_type": "text"
      },
      "cell_type": "markdown",
      "source": [
        "**Importing different modules and functions for creating a sequential model**"
      ]
    },
    {
      "metadata": {
        "id": "FPnfWR4wmFSO",
        "colab_type": "code",
        "outputId": "cd276c81-9443-420f-d3d4-c281385fec97",
        "colab": {
          "base_uri": "https://localhost:8080/",
          "height": 34
        }
      },
      "cell_type": "code",
      "source": [
        "import pickle\n",
        "import numpy as np\n",
        "from keras.models import Sequential\n",
        "from keras.layers import Dense\n",
        "from keras.layers import Dropout\n",
        "from keras.layers import Flatten\n",
        "from keras.layers.convolutional import Conv2D\n",
        "from keras.layers import BatchNormalization\n",
        "from keras.layers.convolutional import MaxPooling2D\n",
        "from keras.utils import np_utils\n",
        "from keras.utils import plot_model\n",
        "from keras import backend as K\n",
        "from sklearn.model_selection import train_test_split\n",
        "K.set_image_dim_ordering('th')"
      ],
      "execution_count": 0,
      "outputs": [
        {
          "output_type": "stream",
          "text": [
            "Using TensorFlow backend.\n"
          ],
          "name": "stderr"
        }
      ]
    },
    {
      "metadata": {
        "id": "X_13feOQtcjW",
        "colab_type": "text"
      },
      "cell_type": "markdown",
      "source": [
        "**As I'm using Google Colabs for this problem , it requires some steps to be followed to load the dataset **"
      ]
    },
    {
      "metadata": {
        "id": "rVkEfu_fmRQj",
        "colab_type": "code",
        "outputId": "579cb85d-0e0d-4345-bcbc-04eca874cdcf",
        "colab": {
          "base_uri": "https://localhost:8080/",
          "height": 122
        }
      },
      "cell_type": "code",
      "source": [
        "from google.colab import drive\n",
        "drive.mount('/content/drive')"
      ],
      "execution_count": 0,
      "outputs": [
        {
          "output_type": "stream",
          "text": [
            "Go to this URL in a browser: https://accounts.google.com/o/oauth2/auth?client_id=947318989803-6bn6qk8qdgf4n4g3pfee6491hc0brc4i.apps.googleusercontent.com&redirect_uri=urn%3Aietf%3Awg%3Aoauth%3A2.0%3Aoob&scope=email%20https%3A%2F%2Fwww.googleapis.com%2Fauth%2Fdocs.test%20https%3A%2F%2Fwww.googleapis.com%2Fauth%2Fdrive%20https%3A%2F%2Fwww.googleapis.com%2Fauth%2Fdrive.photos.readonly%20https%3A%2F%2Fwww.googleapis.com%2Fauth%2Fpeopleapi.readonly&response_type=code\n",
            "\n",
            "Enter your authorization code:\n",
            "··········\n",
            "Mounted at /content/drive\n"
          ],
          "name": "stdout"
        }
      ]
    },
    {
      "metadata": {
        "id": "VLvFjQv2uK-A",
        "colab_type": "text"
      },
      "cell_type": "markdown",
      "source": [
        "**As the data store in the form of pickle file, requires loading of data into variable data**"
      ]
    },
    {
      "metadata": {
        "id": "vchSA7chmmct",
        "colab_type": "code",
        "colab": {}
      },
      "cell_type": "code",
      "source": [
        "with open('/content/drive/My Drive/train_image.pkl', 'rb') as f:\n",
        "    data = pickle.load(f)\n",
        "    data = np.array(data)\n",
        "    data = data.reshape(-1, 28, 28)"
      ],
      "execution_count": 0,
      "outputs": []
    },
    {
      "metadata": {
        "id": "aEz4giJluYdc",
        "colab_type": "text"
      },
      "cell_type": "markdown",
      "source": [
        "**Also the label store in the form of pickle file, requires loading of data into variable label**"
      ]
    },
    {
      "metadata": {
        "id": "5d-u647EqOrz",
        "colab_type": "code",
        "colab": {}
      },
      "cell_type": "code",
      "source": [
        "with open('/content/drive/My Drive/train_label.pkl', 'rb') as f:\n",
        "    label = pickle.load(f)\n",
        "    label = np.array(label)\n",
        "    label = label.reshape(-1, 1)"
      ],
      "execution_count": 0,
      "outputs": []
    },
    {
      "metadata": {
        "id": "UhSrksyfuiLx",
        "colab_type": "text"
      },
      "cell_type": "markdown",
      "source": [
        "**Spliting the dataset into train and test data for training and validation purposes**"
      ]
    },
    {
      "metadata": {
        "id": "_Vp_u3F8qkBO",
        "colab_type": "code",
        "colab": {}
      },
      "cell_type": "code",
      "source": [
        "data_train, data_test, label_train, label_test = train_test_split(data, label, test_size=0.20, random_state=42)"
      ],
      "execution_count": 0,
      "outputs": []
    },
    {
      "metadata": {
        "id": "1uDxNl2uu6cN",
        "colab_type": "text"
      },
      "cell_type": "markdown",
      "source": [
        "**Visualisation of dataset**"
      ]
    },
    {
      "metadata": {
        "id": "uq__zz0lrFZQ",
        "colab_type": "code",
        "colab": {
          "base_uri": "https://localhost:8080/",
          "height": 265
        },
        "outputId": "9f0a38a5-b9c7-4e3a-a8d9-fbed91f1ad8c"
      },
      "cell_type": "code",
      "source": [
        "%matplotlib inline\n",
        "from matplotlib import pyplot as plt\n",
        "plt.imshow(data[0], interpolation='nearest')\n",
        "plt.show()"
      ],
      "execution_count": 10,
      "outputs": [
        {
          "output_type": "display_data",
          "data": {
            "image/png": "[encoded data removed]",
            "text/plain": [
              "<Figure size 432x288 with 1 Axes>"
            ]
          },
          "metadata": {
            "tags": []
          }
        }
      ]
    },
    {
      "metadata": {
        "id": "hvF8IuOGvDLr",
        "colab_type": "text"
      },
      "cell_type": "markdown",
      "source": [
        "**Changing the shape of train and test dataset for fitting into the model**"
      ]
    },
    {
      "metadata": {
        "id": "K-qFKg9zrIz3",
        "colab_type": "code",
        "colab": {}
      },
      "cell_type": "code",
      "source": [
        "data_train = data_train.reshape(data_train.shape[0], 1, 28, 28).astype('float32')\n",
        "data_test = data_test.reshape(data_test.shape[0], 1, 28, 28).astype('float32')"
      ],
      "execution_count": 0,
      "outputs": []
    },
    {
      "metadata": {
        "id": "2AJnAKcMrNxQ",
        "colab_type": "code",
        "colab": {
          "base_uri": "https://localhost:8080/",
          "height": 34
        },
        "outputId": "7e08dc40-d905-44ac-8150-533d62c67eb4"
      },
      "cell_type": "code",
      "source": [
        "label_train = np_utils.to_categorical(label_train)\n",
        "label_test = np_utils.to_categorical(label_test)\n",
        "num_classes = label_test.shape[1]\n",
        "print(num_classes)"
      ],
      "execution_count": 12,
      "outputs": [
        {
          "output_type": "stream",
          "text": [
            "7\n"
          ],
          "name": "stdout"
        }
      ]
    },
    {
      "metadata": {
        "id": "SpmvUr_CvNUi",
        "colab_type": "text"
      },
      "cell_type": "markdown",
      "source": [
        "# CNN MODEL FOR TRAINING"
      ]
    },
    {
      "metadata": {
        "id": "jOUKoURIwByS",
        "colab_type": "text"
      },
      "cell_type": "markdown",
      "source": [
        "**3 Conv2D layer, 2 Maxpooling layer, 3 Dense layer, Dropout is added to layer as to skip those neurons which in not participating in training, Activation function used ReLu, Optimizer Adam with learning rate of 0.001**"
      ]
    },
    {
      "metadata": {
        "id": "0wdFkHstsyrR",
        "colab_type": "code",
        "colab": {}
      },
      "cell_type": "code",
      "source": [
        "def cnn_model():\n",
        "    model = Sequential()\n",
        "    model.add(Conv2D(32, kernel_size=5,input_shape=(1, 28, 28), activation = 'relu'))\n",
        "    model.add(MaxPooling2D(2,2))\n",
        "    model.add(BatchNormalization())\n",
        "    model.add(Dropout(0.4))\n",
        "\n",
        "    model.add(Conv2D(64, kernel_size=3,activation = 'relu'))\n",
        "    model.add(MaxPooling2D(2,2))\n",
        "    model.add(BatchNormalization())\n",
        "    model.add(Dropout(0.4))\n",
        "\n",
        "    model.add(Conv2D(128, kernel_size=3, activation = 'relu'))\n",
        "    model.add(BatchNormalization())\n",
        "\n",
        "    model.add(Flatten())\n",
        "    model.add(Dense(256, activation = \"relu\"))\n",
        "    model.add(Dropout(0.4))\n",
        "    model.add(Dense(128, activation = \"relu\"))\n",
        "    model.add(Dropout(0.4))\n",
        "    model.add(Dense(7, activation = \"softmax\"))\n",
        "    \n",
        "    model.compile(loss='categorical_crossentropy', optimizer='adam', metrics=['accuracy'])\n",
        "    return model"
      ],
      "execution_count": 0,
      "outputs": []
    },
    {
      "metadata": {
        "id": "gbHBVO7Owhyd",
        "colab_type": "text"
      },
      "cell_type": "markdown",
      "source": [
        "**Evaluation of Model**"
      ]
    },
    {
      "metadata": {
        "id": "-mUjXwSOs2wB",
        "colab_type": "code",
        "colab": {
          "base_uri": "https://localhost:8080/",
          "height": 887
        },
        "outputId": "f1194fa2-d42b-4f57-93d3-97d1da5f9add"
      },
      "cell_type": "code",
      "source": [
        "model = cnn_model()\n",
        "history = model.fit(data_train, label_train, validation_data=(data_test, label_test), \\\n",
        "                    epochs=20, batch_size=32, verbose=2)\n",
        "scores = model.evaluate(data_test, label_test, verbose=0)\n",
        "print('CNN Error {}'.format(100-scores[1]*100))"
      ],
      "execution_count": 16,
      "outputs": [
        {
          "output_type": "stream",
          "text": [
            "WARNING:tensorflow:From /usr/local/lib/python3.6/dist-packages/tensorflow/python/framework/op_def_library.py:263: colocate_with (from tensorflow.python.framework.ops) is deprecated and will be removed in a future version.\n",
            "Instructions for updating:\n",
            "Colocations handled automatically by placer.\n",
            "WARNING:tensorflow:From /usr/local/lib/python3.6/dist-packages/keras/backend/tensorflow_backend.py:3445: calling dropout (from tensorflow.python.ops.nn_ops) with keep_prob is deprecated and will be removed in a future version.\n",
            "Instructions for updating:\n",
            "Please use `rate` instead of `keep_prob`. Rate should be set to `rate = 1 - keep_prob`.\n",
            "WARNING:tensorflow:From /usr/local/lib/python3.6/dist-packages/tensorflow/python/ops/math_ops.py:3066: to_int32 (from tensorflow.python.ops.math_ops) is deprecated and will be removed in a future version.\n",
            "Instructions for updating:\n",
            "Use tf.cast instead.\n",
            "Train on 6400 samples, validate on 1600 samples\n",
            "Epoch 1/20\n",
            " - 17s - loss: 1.0446 - acc: 0.5558 - val_loss: 0.6833 - val_acc: 0.6875\n",
            "Epoch 2/20\n",
            " - 16s - loss: 0.7405 - acc: 0.6777 - val_loss: 0.6479 - val_acc: 0.7100\n",
            "Epoch 3/20\n",
            " - 16s - loss: 0.6495 - acc: 0.7267 - val_loss: 0.5654 - val_acc: 0.7725\n",
            "Epoch 4/20\n",
            " - 16s - loss: 0.5908 - acc: 0.7637 - val_loss: 0.4931 - val_acc: 0.7969\n",
            "Epoch 5/20\n",
            " - 17s - loss: 0.5397 - acc: 0.7880 - val_loss: 0.5312 - val_acc: 0.7712\n",
            "Epoch 6/20\n",
            " - 16s - loss: 0.4876 - acc: 0.8036 - val_loss: 0.4421 - val_acc: 0.8131\n",
            "Epoch 7/20\n",
            " - 16s - loss: 0.4849 - acc: 0.8056 - val_loss: 0.4345 - val_acc: 0.8219\n",
            "Epoch 8/20\n",
            "Epoch 9/20\n",
            " - 16s - loss: 0.4354 - acc: 0.8267 - val_loss: 0.4036 - val_acc: 0.8375\n",
            "Epoch 10/20\n",
            " - 16s - loss: 0.4132 - acc: 0.8364 - val_loss: 0.3920 - val_acc: 0.8381\n",
            "Epoch 11/20\n",
            " - 16s - loss: 0.3911 - acc: 0.8359 - val_loss: 0.3818 - val_acc: 0.8488\n",
            "Epoch 12/20\n",
            " - 16s - loss: 0.3939 - acc: 0.8448 - val_loss: 0.4201 - val_acc: 0.8350\n",
            "Epoch 13/20\n",
            " - 16s - loss: 0.3910 - acc: 0.8455 - val_loss: 0.3912 - val_acc: 0.8481\n",
            "Epoch 14/20\n",
            " - 16s - loss: 0.3741 - acc: 0.8520 - val_loss: 0.3965 - val_acc: 0.8363\n",
            "Epoch 15/20\n",
            " - 16s - loss: 0.3499 - acc: 0.8572 - val_loss: 0.3944 - val_acc: 0.8413\n",
            "Epoch 16/20\n",
            " - 16s - loss: 0.3525 - acc: 0.8592 - val_loss: 0.4150 - val_acc: 0.8281\n",
            "Epoch 17/20\n",
            " - 16s - loss: 0.3447 - acc: 0.8622 - val_loss: 0.3932 - val_acc: 0.8519\n",
            "Epoch 18/20\n",
            " - 16s - loss: 0.3362 - acc: 0.8725 - val_loss: 0.3902 - val_acc: 0.8531\n",
            "Epoch 19/20\n",
            " - 16s - loss: 0.3350 - acc: 0.8655 - val_loss: 0.3866 - val_acc: 0.8500\n",
            "Epoch 20/20\n",
            " - 16s - loss: 0.3198 - acc: 0.8748 - val_loss: 0.3935 - val_acc: 0.8456\n",
            "CNN Error 15.4375\n"
          ],
          "name": "stdout"
        }
      ]
    },
    {
      "metadata": {
        "id": "yg7RuxBNtHmk",
        "colab_type": "code",
        "colab": {
          "base_uri": "https://localhost:8080/",
          "height": 680
        },
        "outputId": "13244c63-28ee-4aed-8227-b0634fbbf35b"
      },
      "cell_type": "code",
      "source": [
        "model.summary()"
      ],
      "execution_count": 17,
      "outputs": [
        {
          "output_type": "stream",
          "text": [
            "_________________________________________________________________\n",
            "Layer (type)                 Output Shape              Param #   \n",
            "=================================================================\n",
            "conv2d_1 (Conv2D)            (None, 32, 24, 24)        832       \n",
            "_________________________________________________________________\n",
            "max_pooling2d_1 (MaxPooling2 (None, 32, 12, 12)        0         \n",
            "_________________________________________________________________\n",
            "batch_normalization_1 (Batch (None, 32, 12, 12)        48        \n",
            "_________________________________________________________________\n",
            "dropout_1 (Dropout)          (None, 32, 12, 12)        0         \n",
            "_________________________________________________________________\n",
            "conv2d_2 (Conv2D)            (None, 64, 10, 10)        18496     \n",
            "_________________________________________________________________\n",
            "max_pooling2d_2 (MaxPooling2 (None, 64, 5, 5)          0         \n",
            "_________________________________________________________________\n",
            "batch_normalization_2 (Batch (None, 64, 5, 5)          20        \n",
            "_________________________________________________________________\n",
            "dropout_2 (Dropout)          (None, 64, 5, 5)          0         \n",
            "_________________________________________________________________\n",
            "conv2d_3 (Conv2D)            (None, 128, 3, 3)         73856     \n",
            "_________________________________________________________________\n",
            "batch_normalization_3 (Batch (None, 128, 3, 3)         12        \n",
            "_________________________________________________________________\n",
            "flatten_1 (Flatten)          (None, 1152)              0         \n",
            "_________________________________________________________________\n",
            "dense_1 (Dense)              (None, 256)               295168    \n",
            "_________________________________________________________________\n",
            "dropout_3 (Dropout)          (None, 256)               0         \n",
            "_________________________________________________________________\n",
            "dense_2 (Dense)              (None, 128)               32896     \n",
            "_________________________________________________________________\n",
            "dropout_4 (Dropout)          (None, 128)               0         \n",
            "_________________________________________________________________\n",
            "dense_3 (Dense)              (None, 7)                 903       \n",
            "=================================================================\n",
            "Total params: 422,231\n",
            "Trainable params: 422,191\n",
            "Non-trainable params: 40\n",
            "_________________________________________________________________\n"
          ],
          "name": "stdout"
        }
      ]
    },
    {
      "metadata": {
        "id": "3MfOaeaJxN94",
        "colab_type": "text"
      },
      "cell_type": "markdown",
      "source": [
        "**Visualization **"
      ]
    },
    {
      "metadata": {
        "id": "btGutHKDxaMg",
        "colab_type": "code",
        "colab": {
          "base_uri": "https://localhost:8080/",
          "height": 588
        },
        "outputId": "7d4e493a-6489-46e1-9d37-0914d06392d6"
      },
      "cell_type": "code",
      "source": [
        "print(history.history.keys())\n",
        "# summarize history for accuracy\n",
        "plt.plot(history.history['acc'])\n",
        "plt.plot(history.history['val_acc'])\n",
        "plt.title('model accuracy')\n",
        "plt.ylabel('accuracy')\n",
        "plt.xlabel('epoch')\n",
        "plt.legend(['train', 'test'], loc='upper left')\n",
        "plt.show()\n",
        "# summarize history for loss\n",
        "plt.plot(history.history['loss'])\n",
        "plt.plot(history.history['val_loss'])\n",
        "plt.title('model loss')\n",
        "plt.ylabel('loss')\n",
        "plt.xlabel('epoch')\n",
        "plt.legend(['train', 'test'], loc='upper left')\n",
        "plt.show()"
      ],
      "execution_count": 18,
      "outputs": [
        {
          "output_type": "stream",
          "text": [
            "dict_keys(['val_loss', 'val_acc', 'loss', 'acc'])\n"
          ],
          "name": "stdout"
        },
        {
          "output_type": "display_data",
          "data": {
            "image/png": "[encoded data removed]",
            "text/plain": [
              "<Figure size 432x288 with 1 Axes>"
            ]
          },
          "metadata": {
            "tags": []
          }
        },
        {
          "output_type": "display_data",
          "data": {
            "image/png": "[encoded data removed]",
            "text/plain": [
              "<Figure size 432x288 with 1 Axes>"
            ]
          },
          "metadata": {
            "tags": []
          }
        }
      ]
    },
    {
      "metadata": {
        "id": "oQ0AWb_Pxy5b",
        "colab_type": "text"
      },
      "cell_type": "markdown",
      "source": [
        "#Testing the Model"
      ]
    },
    {
      "metadata": {
        "id": "U67_jMf1x8sa",
        "colab_type": "code",
        "colab": {}
      },
      "cell_type": "code",
      "source": [
        "with open('/content/drive/My Drive/test_image.pkl', 'rb') as f:\n",
        "    test_data = pickle.load(f)\n",
        "    test_data = np.array(test_data)\n",
        "    test_data = test_data.reshape(-1, 1, 28, 28)"
      ],
      "execution_count": 0,
      "outputs": []
    },
    {
      "metadata": {
        "id": "kSWV27ELyJtb",
        "colab_type": "text"
      },
      "cell_type": "markdown",
      "source": [
        "**Saving the prediction into CSV file using pandas module**"
      ]
    },
    {
      "metadata": {
        "id": "rVuaLGuPyN2s",
        "colab_type": "code",
        "colab": {}
      },
      "cell_type": "code",
      "source": [
        "import pandas as pd\n",
        "\n",
        "predictions = model.predict(test_data)\n",
        "predictions = np.argmax(predictions, axis=1)\n",
        "predictions = pd.Series(predictions, name=\"predicted class\")\n",
        "submit = pd.concat([pd.Series(range(2000), name=\"Test_image_index\"), predictions], axis=1)\n",
        "submit.to_csv(\"Nishchal_Kumar.csv\", index=False)"
      ],
      "execution_count": 0,
      "outputs": []
    },
    {
      "metadata": {
        "id": "Tx8zL-yJyV5Z",
        "colab_type": "code",
        "colab": {}
      },
      "cell_type": "code",
      "source": [
        "from google.colab import files\n",
        "files.download('Nishchal_Kumar.csv') "
      ],
      "execution_count": 0,
      "outputs": []
    },
    {
      "metadata": {
        "id": "DNc-fc2U0n5g",
        "colab_type": "code",
        "colab": {}
      },
      "cell_type": "code",
      "source": [
        ""
      ],
      "execution_count": 0,
      "outputs": []
    }
  ]
}